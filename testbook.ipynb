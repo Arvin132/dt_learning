{
 "cells": [
  {
   "cell_type": "code",
   "execution_count": 33,
   "metadata": {},
   "outputs": [],
   "source": [
    "from Dataset import InputDataset, TargetDataset, WordDataset\n",
    "from Tree import DesicionTree"
   ]
  },
  {
   "cell_type": "code",
   "execution_count": 34,
   "metadata": {},
   "outputs": [
    {
     "name": "stdout",
     "output_type": "stream",
     "text": [
      "1500\n"
     ]
    }
   ],
   "source": [
    "wds = WordDataset()\n",
    "wds.read_file(\"dataset/words.txt\")\n",
    "ids = InputDataset()\n",
    "ids.read_file(\"dataset/trainData.txt\", wds)\n",
    "lds = TargetDataset()\n",
    "lds.read_file(\"dataset/trainLabel.txt\")\n",
    "\n",
    "print(len(ids.docs))"
   ]
  },
  {
   "cell_type": "code",
   "execution_count": 35,
   "metadata": {},
   "outputs": [
    {
     "name": "stderr",
     "output_type": "stream",
     "text": [
      "101it [01:19,  1.28it/s]                         \n"
     ]
    }
   ],
   "source": [
    "dt = DesicionTree(100)\n",
    "dt.fit(ids.get_vals(), lds.get_vals(), wds)"
   ]
  },
  {
   "cell_type": "code",
   "execution_count": 36,
   "metadata": {},
   "outputs": [],
   "source": [
    "test_input_ds = InputDataset()\n",
    "test_input_ds.read_file(\"dataset/testData.txt\", wds)\n",
    "test_target_ds = TargetDataset()\n",
    "test_target_ds.read_file(\"dataset/testLabel.txt\")\n",
    "\n",
    "predictions = dt.predict(test_input_ds.get_vals())\n"
   ]
  },
  {
   "cell_type": "code",
   "execution_count": 37,
   "metadata": {},
   "outputs": [
    {
     "name": "stdout",
     "output_type": "stream",
     "text": [
      "[1, 1, 1, 1, 1, 1, 1, 1, 1, 1, 1, 1, 1, 1, 1, 1, 2, 1, 2, 1]\n",
      "[1, 1, 1, 1, 1, 1, 1, 1, 1, 1, 1, 1, 1, 1, 1, 1, 1, 1, 1, 1]\n"
     ]
    }
   ],
   "source": [
    "targets = test_target_ds.get_vals()\n",
    "print(predictions[0:20])\n",
    "print(targets[0:20])"
   ]
  },
  {
   "cell_type": "code",
   "execution_count": 38,
   "metadata": {},
   "outputs": [
    {
     "name": "stdout",
     "output_type": "stream",
     "text": [
      "model accuracy:  0.58\n"
     ]
    }
   ],
   "source": [
    "correct = 0\n",
    "for idx in range(len(predictions)):\n",
    "    if (predictions[idx] == targets[idx]):\n",
    "        correct += 1\n",
    "\n",
    "print(\"model accuracy: \", correct / len(predictions))"
   ]
  },
  {
   "cell_type": "code",
   "execution_count": null,
   "metadata": {},
   "outputs": [],
   "source": []
  }
 ],
 "metadata": {
  "kernelspec": {
   "display_name": "Python 3",
   "language": "python",
   "name": "python3"
  },
  "language_info": {
   "codemirror_mode": {
    "name": "ipython",
    "version": 3
   },
   "file_extension": ".py",
   "mimetype": "text/x-python",
   "name": "python",
   "nbconvert_exporter": "python",
   "pygments_lexer": "ipython3",
   "version": "3.11.8"
  }
 },
 "nbformat": 4,
 "nbformat_minor": 2
}
